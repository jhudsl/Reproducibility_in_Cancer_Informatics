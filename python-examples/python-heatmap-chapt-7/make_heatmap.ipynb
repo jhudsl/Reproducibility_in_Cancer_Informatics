{
 "cells": [
  {
   "cell_type": "markdown",
   "id": "f50449a9-085f-41db-a163-240235ef7d5d",
   "metadata": {
    "tags": []
   },
   "source": [
    "# Acute myeloid leukemiaacute myeloid leukemia mouse model heatmap\n",
    "_Author: Candace Savonen adapted this analysis based on this [R refine.bio-examples notebook](https://alexslemonade.github.io/refinebio-examples/03-rnaseq/clustering_rnaseq_01_heatmap.html)_   \n",
    "_Date: October 2021_  \n",
    "\n",
    "## Purpose of the analysis\n",
    "\n",
    "In this analysis, we will use this [acute myeloid leukemia sample dataset](https://www.refine.bio/experiments/SRP070849) from [Shih et al, 2017](https://pubmed.ncbi.nlm.nih.gov/28193779/) and pre-processed by [refinebio](https://www.refine.bio/).\n",
    "\n",
    "The data that we downloaded from [refine.bio](https://www.refine.bio/) for this analysis has 19 samples (obtained from 19 mice with acute myeloid leukemia (AML)), containing RNA-sequencing results for types of AML under controlled treatment conditions.\n",
    "\n",
    "This [dataset can be downloaded from this page on refine.bio](https://www.refine.bio/experiments/SRP070849). \n",
    "We will download it already [processed and quantile normalized](http://docs.refine.bio/en/latest/main_text.html#refine-bio-processed-refinebio-processedibadge). "
   ]
  },
  {
   "cell_type": "markdown",
   "id": "7d577ecd-fcc8-4b7b-9b20-d6966820a4f3",
   "metadata": {},
   "source": [
    "## Import libraries"
   ]
  },
  {
   "cell_type": "code",
   "execution_count": 1,
   "id": "df650612-9a65-41d8-b94e-a86007e76f0f",
   "metadata": {
    "tags": []
   },
   "outputs": [],
   "source": [
    "# We need this for creating directories\n",
    "import os\n",
    "from pathlib import Path\n",
    "\n",
    "# For session info \n",
    "import IPython\n",
    "\n",
    "# We need this for downloading data from refine.bio \n",
    "import pyrefinebio\n",
    "\n",
    "# We will use these for manipulating our data\n",
    "import pandas as pd\n",
    "import numpy as np\n",
    "import random\n",
    "\n",
    "# We will use this for making the heatmap and these for the color codes\n",
    "import seaborn as sns\n",
    "sns.set_theme(color_codes=True)"
   ]
  },
  {
   "cell_type": "markdown",
   "id": "f7b0d794-d6db-47fa-ac25-e580c20a23d5",
   "metadata": {},
   "source": [
    "Set the seed"
   ]
  },
  {
   "cell_type": "code",
   "execution_count": 2,
   "id": "c08cc038-06c6-4753-8219-39d74c077622",
   "metadata": {
    "tags": []
   },
   "outputs": [],
   "source": [
    "random.seed(1234)"
   ]
  },
  {
   "cell_type": "markdown",
   "id": "76dc0d3f-ab86-4f0b-b543-6c25dc6526af",
   "metadata": {},
   "source": [
    "## Set up analysis folders"
   ]
  },
  {
   "cell_type": "code",
   "execution_count": 3,
   "id": "f2702445-afbf-42e5-901f-aae725f3c344",
   "metadata": {
    "tags": []
   },
   "outputs": [
    {
     "name": "stdout",
     "output_type": "stream",
     "text": [
      "[Errno 17] File exists: 'data'\n",
      "[Errno 17] File exists: 'results'\n",
      "[Errno 17] File exists: 'plots'\n"
     ]
    }
   ],
   "source": [
    "dirs = ['data', 'results', 'plots']\n",
    "\n",
    "# Create the directory if it doesn't exist\n",
    "for dir in dirs:\n",
    "    try:\n",
    "        os.mkdir(dir, mode = 0o777)\n",
    "    except OSError as error:\n",
    "        print(error)"
   ]
  },
  {
   "cell_type": "code",
   "execution_count": 4,
   "id": "f67e9d40-4cf8-433a-b18d-1dc93d716746",
   "metadata": {
    "tags": []
   },
   "outputs": [],
   "source": [
    "# Define the file path to the data directory\n",
    "data_dir = Path('data/SRP070849')\n",
    "\n",
    "# Declare the file path to the gene expression matrix file\n",
    "data_file = Path(os.path.join(data_dir, 'SRP070849.tsv'))\n",
    "\n",
    "# Declare the file path to the metadata file\n",
    "# inside the directory saved as `data_dir`\n",
    "metadata_file = Path(os.path.join(data_dir, 'metadata_SRP070849.tsv'))"
   ]
  },
  {
   "cell_type": "markdown",
   "id": "48d9ab59-e2e0-42b6-a228-331808de9b38",
   "metadata": {
    "tags": []
   },
   "source": [
    "## Import and set up data\n",
    "\n",
    "First we will download our dataset from refine.bio using their API client. But we will only download if the files don't already exist locally.  "
   ]
  },
  {
   "cell_type": "code",
   "execution_count": 5,
   "id": "9e0076d8-f794-408f-b5a7-b785eacd9ee9",
   "metadata": {},
   "outputs": [],
   "source": [
    "if not data_file.exists() or not metadata_file.exists():\n",
    "    \n",
    "    print(\"Downloading SRP070849 from refine.bio\")\n",
    "    \n",
    "    pyrefinebio.create_token(agree_to_terms = True, save_token = False)\n",
    "\n",
    "    pyrefinebio.download_dataset(\n",
    "        Path(\"data/dataset.zip\"),\n",
    "        \"cansav09@gmail.com\",\n",
    "        experiments = [\"SRP070849\"],\n",
    "        extract = True\n",
    "    )"
   ]
  },
  {
   "cell_type": "markdown",
   "id": "6b5afe8b-0aab-439f-b741-4d5a5d04bc06",
   "metadata": {},
   "source": [
    "Now we can read in our expression data and metadata with `pandas`. "
   ]
  },
  {
   "cell_type": "code",
   "execution_count": 6,
   "id": "758c518f-0a27-48f9-bd60-539010394bdd",
   "metadata": {},
   "outputs": [],
   "source": [
    "metadata = {}\n",
    "\n",
    "# Read in metadata TSV file\n",
    "metadata = pd.read_csv(metadata_file, sep='\\t')"
   ]
  },
  {
   "cell_type": "code",
   "execution_count": 7,
   "id": "e9a28f4e-902f-41b0-ab29-e41b816c936c",
   "metadata": {},
   "outputs": [],
   "source": [
    "expression_df = {}\n",
    "\n",
    "# Read in data TSV file\n",
    "expression_df = pd.read_csv(data_file, sep='\\t')\n",
    "\n",
    "# Set the Gene column as the index\n",
    "expression_df.set_index(\"Gene\", inplace = True)"
   ]
  },
  {
   "cell_type": "markdown",
   "id": "97d096c3-79d6-4a2e-8eb7-aa7956f76db5",
   "metadata": {},
   "source": [
    "Let's take a look at the metadata object that we read into the R environment."
   ]
  },
  {
   "cell_type": "code",
   "execution_count": 8,
   "id": "97845fff-bb1a-4e2c-9881-96ab19a74527",
   "metadata": {},
   "outputs": [
    {
     "data": {
      "text/html": [
       "<div>\n",
       "<style scoped>\n",
       "    .dataframe tbody tr th:only-of-type {\n",
       "        vertical-align: middle;\n",
       "    }\n",
       "\n",
       "    .dataframe tbody tr th {\n",
       "        vertical-align: top;\n",
       "    }\n",
       "\n",
       "    .dataframe thead th {\n",
       "        text-align: right;\n",
       "    }\n",
       "</style>\n",
       "<table border=\"1\" class=\"dataframe\">\n",
       "  <thead>\n",
       "    <tr style=\"text-align: right;\">\n",
       "      <th></th>\n",
       "      <th>refinebio_accession_code</th>\n",
       "      <th>experiment_accession</th>\n",
       "      <th>refinebio_age</th>\n",
       "      <th>refinebio_cell_line</th>\n",
       "      <th>refinebio_compound</th>\n",
       "      <th>refinebio_disease</th>\n",
       "      <th>refinebio_disease_stage</th>\n",
       "      <th>refinebio_genetic_information</th>\n",
       "      <th>refinebio_organism</th>\n",
       "      <th>refinebio_platform</th>\n",
       "      <th>...</th>\n",
       "      <th>refinebio_processor_version</th>\n",
       "      <th>refinebio_race</th>\n",
       "      <th>refinebio_sex</th>\n",
       "      <th>refinebio_source_archive_url</th>\n",
       "      <th>refinebio_source_database</th>\n",
       "      <th>refinebio_specimen_part</th>\n",
       "      <th>refinebio_subject</th>\n",
       "      <th>refinebio_time</th>\n",
       "      <th>refinebio_title</th>\n",
       "      <th>refinebio_treatment</th>\n",
       "    </tr>\n",
       "  </thead>\n",
       "  <tbody>\n",
       "    <tr>\n",
       "      <th>0</th>\n",
       "      <td>SRR3189679</td>\n",
       "      <td>SRP070849</td>\n",
       "      <td>NaN</td>\n",
       "      <td>NaN</td>\n",
       "      <td>NaN</td>\n",
       "      <td>NaN</td>\n",
       "      <td>NaN</td>\n",
       "      <td>NaN</td>\n",
       "      <td>MUS_MUSCULUS</td>\n",
       "      <td>Illumina HiSeq 2000 (IlluminaHiSeq2000)</td>\n",
       "      <td>...</td>\n",
       "      <td>v1.25.6-hotfix</td>\n",
       "      <td>NaN</td>\n",
       "      <td>NaN</td>\n",
       "      <td>NaN</td>\n",
       "      <td>SRA</td>\n",
       "      <td>lin-sca+ckit+</td>\n",
       "      <td>hematopoietic stem cells</td>\n",
       "      <td>NaN</td>\n",
       "      <td>WT-1 RNA-Seq</td>\n",
       "      <td>none</td>\n",
       "    </tr>\n",
       "    <tr>\n",
       "      <th>1</th>\n",
       "      <td>SRR3189680</td>\n",
       "      <td>SRP070849</td>\n",
       "      <td>NaN</td>\n",
       "      <td>NaN</td>\n",
       "      <td>NaN</td>\n",
       "      <td>NaN</td>\n",
       "      <td>NaN</td>\n",
       "      <td>NaN</td>\n",
       "      <td>MUS_MUSCULUS</td>\n",
       "      <td>Illumina HiSeq 2000 (IlluminaHiSeq2000)</td>\n",
       "      <td>...</td>\n",
       "      <td>v1.25.6-hotfix</td>\n",
       "      <td>NaN</td>\n",
       "      <td>NaN</td>\n",
       "      <td>NaN</td>\n",
       "      <td>SRA</td>\n",
       "      <td>lin-sca+ckit+</td>\n",
       "      <td>hematopoietic stem cells</td>\n",
       "      <td>NaN</td>\n",
       "      <td>WT-2 RNA-Seq</td>\n",
       "      <td>none</td>\n",
       "    </tr>\n",
       "    <tr>\n",
       "      <th>2</th>\n",
       "      <td>SRR3189681</td>\n",
       "      <td>SRP070849</td>\n",
       "      <td>NaN</td>\n",
       "      <td>NaN</td>\n",
       "      <td>NaN</td>\n",
       "      <td>NaN</td>\n",
       "      <td>NaN</td>\n",
       "      <td>NaN</td>\n",
       "      <td>MUS_MUSCULUS</td>\n",
       "      <td>Illumina HiSeq 2000 (IlluminaHiSeq2000)</td>\n",
       "      <td>...</td>\n",
       "      <td>v1.25.6-hotfix</td>\n",
       "      <td>NaN</td>\n",
       "      <td>NaN</td>\n",
       "      <td>NaN</td>\n",
       "      <td>SRA</td>\n",
       "      <td>lin-sca+ckit+</td>\n",
       "      <td>hematopoietic stem cells</td>\n",
       "      <td>NaN</td>\n",
       "      <td>WT-3 RNA-Seq</td>\n",
       "      <td>none</td>\n",
       "    </tr>\n",
       "    <tr>\n",
       "      <th>3</th>\n",
       "      <td>SRR3189682</td>\n",
       "      <td>SRP070849</td>\n",
       "      <td>NaN</td>\n",
       "      <td>NaN</td>\n",
       "      <td>NaN</td>\n",
       "      <td>NaN</td>\n",
       "      <td>NaN</td>\n",
       "      <td>NaN</td>\n",
       "      <td>MUS_MUSCULUS</td>\n",
       "      <td>Illumina HiSeq 2000 (IlluminaHiSeq2000)</td>\n",
       "      <td>...</td>\n",
       "      <td>v1.25.6-hotfix</td>\n",
       "      <td>NaN</td>\n",
       "      <td>NaN</td>\n",
       "      <td>NaN</td>\n",
       "      <td>SRA</td>\n",
       "      <td>lin-sca+ckit+</td>\n",
       "      <td>hematopoietic stem cells</td>\n",
       "      <td>NaN</td>\n",
       "      <td>WT-4 RNA-Seq</td>\n",
       "      <td>none</td>\n",
       "    </tr>\n",
       "    <tr>\n",
       "      <th>4</th>\n",
       "      <td>SRR3189683</td>\n",
       "      <td>SRP070849</td>\n",
       "      <td>NaN</td>\n",
       "      <td>NaN</td>\n",
       "      <td>NaN</td>\n",
       "      <td>NaN</td>\n",
       "      <td>NaN</td>\n",
       "      <td>NaN</td>\n",
       "      <td>MUS_MUSCULUS</td>\n",
       "      <td>Illumina HiSeq 2000 (IlluminaHiSeq2000)</td>\n",
       "      <td>...</td>\n",
       "      <td>v1.25.6-hotfix</td>\n",
       "      <td>NaN</td>\n",
       "      <td>NaN</td>\n",
       "      <td>NaN</td>\n",
       "      <td>SRA</td>\n",
       "      <td>lin-sca+ckit+</td>\n",
       "      <td>hematopoietic stem cells</td>\n",
       "      <td>NaN</td>\n",
       "      <td>IDH2.FLT3_veh_1 RNA-Seq</td>\n",
       "      <td>vehicle</td>\n",
       "    </tr>\n",
       "  </tbody>\n",
       "</table>\n",
       "<p>5 rows × 23 columns</p>\n",
       "</div>"
      ],
      "text/plain": [
       "  refinebio_accession_code experiment_accession  refinebio_age  \\\n",
       "0               SRR3189679            SRP070849            NaN   \n",
       "1               SRR3189680            SRP070849            NaN   \n",
       "2               SRR3189681            SRP070849            NaN   \n",
       "3               SRR3189682            SRP070849            NaN   \n",
       "4               SRR3189683            SRP070849            NaN   \n",
       "\n",
       "   refinebio_cell_line  refinebio_compound  refinebio_disease  \\\n",
       "0                  NaN                 NaN                NaN   \n",
       "1                  NaN                 NaN                NaN   \n",
       "2                  NaN                 NaN                NaN   \n",
       "3                  NaN                 NaN                NaN   \n",
       "4                  NaN                 NaN                NaN   \n",
       "\n",
       "   refinebio_disease_stage  refinebio_genetic_information refinebio_organism  \\\n",
       "0                      NaN                            NaN       MUS_MUSCULUS   \n",
       "1                      NaN                            NaN       MUS_MUSCULUS   \n",
       "2                      NaN                            NaN       MUS_MUSCULUS   \n",
       "3                      NaN                            NaN       MUS_MUSCULUS   \n",
       "4                      NaN                            NaN       MUS_MUSCULUS   \n",
       "\n",
       "                        refinebio_platform  ...  refinebio_processor_version  \\\n",
       "0  Illumina HiSeq 2000 (IlluminaHiSeq2000)  ...               v1.25.6-hotfix   \n",
       "1  Illumina HiSeq 2000 (IlluminaHiSeq2000)  ...               v1.25.6-hotfix   \n",
       "2  Illumina HiSeq 2000 (IlluminaHiSeq2000)  ...               v1.25.6-hotfix   \n",
       "3  Illumina HiSeq 2000 (IlluminaHiSeq2000)  ...               v1.25.6-hotfix   \n",
       "4  Illumina HiSeq 2000 (IlluminaHiSeq2000)  ...               v1.25.6-hotfix   \n",
       "\n",
       "   refinebio_race refinebio_sex refinebio_source_archive_url  \\\n",
       "0             NaN           NaN                          NaN   \n",
       "1             NaN           NaN                          NaN   \n",
       "2             NaN           NaN                          NaN   \n",
       "3             NaN           NaN                          NaN   \n",
       "4             NaN           NaN                          NaN   \n",
       "\n",
       "   refinebio_source_database  refinebio_specimen_part  \\\n",
       "0                        SRA            lin-sca+ckit+   \n",
       "1                        SRA            lin-sca+ckit+   \n",
       "2                        SRA            lin-sca+ckit+   \n",
       "3                        SRA            lin-sca+ckit+   \n",
       "4                        SRA            lin-sca+ckit+   \n",
       "\n",
       "          refinebio_subject refinebio_time          refinebio_title  \\\n",
       "0  hematopoietic stem cells            NaN             WT-1 RNA-Seq   \n",
       "1  hematopoietic stem cells            NaN             WT-2 RNA-Seq   \n",
       "2  hematopoietic stem cells            NaN             WT-3 RNA-Seq   \n",
       "3  hematopoietic stem cells            NaN             WT-4 RNA-Seq   \n",
       "4  hematopoietic stem cells            NaN  IDH2.FLT3_veh_1 RNA-Seq   \n",
       "\n",
       "  refinebio_treatment  \n",
       "0                none  \n",
       "1                none  \n",
       "2                none  \n",
       "3                none  \n",
       "4             vehicle  \n",
       "\n",
       "[5 rows x 23 columns]"
      ]
     },
     "execution_count": 8,
     "metadata": {},
     "output_type": "execute_result"
    }
   ],
   "source": [
    "metadata.head(5)"
   ]
  },
  {
   "cell_type": "markdown",
   "id": "ddf3119e-4e6c-450e-b8ab-1137c51b1d2d",
   "metadata": {},
   "source": [
    "Now let's ensure that the metadata and data are in the same sample order."
   ]
  },
  {
   "cell_type": "code",
   "execution_count": 9,
   "id": "fe6c78b5-f2de-44b3-9e96-7d9fd59d5c0f",
   "metadata": {},
   "outputs": [
    {
     "name": "stdout",
     "output_type": "stream",
     "text": [
      "True\n"
     ]
    }
   ],
   "source": [
    "print(metadata['refinebio_accession_code'].tolist() == expression_df.columns.tolist())"
   ]
  },
  {
   "cell_type": "markdown",
   "id": "be85643c-a0c8-41f0-ad12-399e663b232e",
   "metadata": {},
   "source": [
    "## Choose genes of interest\n",
    "\n",
    "For this example, we will sort genes by variance and select genes in the upper quartile, but there are many alternative criterion by which you may want to sort your genes, <i>e.g.</i> fold change, t-statistic, membership in a particular gene ontology, so on."
   ]
  },
  {
   "cell_type": "code",
   "execution_count": 10,
   "id": "61ef8280-0ff2-4398-aa29-d7d394ec4272",
   "metadata": {},
   "outputs": [],
   "source": [
    "# Calculate the variance for each gene\n",
    "expression_df['variance'] = expression_df.var(axis = 1, skipna = True)\n",
    "\n",
    "# Find the upper quartile for these data\n",
    "upper_quartile = expression_df['variance'].quantile([0.90]).values\n",
    "\n",
    "# Filter the data choosing only genes whose variances are in the upper quartile\n",
    "df_by_var = expression_df[expression_df.variance > float(upper_quartile)]\n",
    "\n",
    "# Drop the variance column we calculated\n",
    "df_by_var = df_by_var.drop(columns = 'variance')"
   ]
  },
  {
   "cell_type": "code",
   "execution_count": 11,
   "id": "44886f25-4adf-4814-b4b6-93dfbeba694a",
   "metadata": {},
   "outputs": [
    {
     "name": "stdout",
     "output_type": "stream",
     "text": [
      "4125\n"
     ]
    }
   ],
   "source": [
    "# Check how many genes we are left with\n",
    "print(len(df_by_var.index))"
   ]
  },
  {
   "cell_type": "markdown",
   "id": "bc91ca93-2252-43b5-8513-a239e53fd7d9",
   "metadata": {},
   "source": [
    "### Write top variance genes to a TSV file"
   ]
  },
  {
   "cell_type": "code",
   "execution_count": 12,
   "id": "d6b3e851-7e14-4cbd-9aca-ace6207b6881",
   "metadata": {},
   "outputs": [],
   "source": [
    "# Write df_by_var to tsv file\n",
    "df_by_var.to_csv(\"results/top_90_var_genes.tsv\", sep = \"\\t\")"
   ]
  },
  {
   "cell_type": "markdown",
   "id": "55b36af8-127b-4c6b-abc9-dea85510a101",
   "metadata": {},
   "source": [
    "## Prepare metadata for annotation\n",
    "\n",
    "From the accompanying [paper](https://pubmed.ncbi.nlm.nih.gov/28193779/), we know that the mice with `IDH2` mutant AML were treated with vehicle or AG-221 (the first small molecule in-vivo inhibitor of IDH2 to enter clinical trials) and the mice with `TET2` mutant AML were treated with vehicle or 5-Azacytidine (Decitabine, hypomethylating agent). [@Shih2017]"
   ]
  },
  {
   "cell_type": "code",
   "execution_count": 13,
   "id": "fcb711e2-54ac-44db-ba57-b039d8c00a5f",
   "metadata": {},
   "outputs": [],
   "source": [
    "# Recode refinebio_title variable into something more useful\n",
    "metadata['exp_group'] = metadata['refinebio_title'].str.replace(\"TET2.*\", \"TET2\", regex = True)\n",
    "metadata['exp_group'] = metadata['exp_group'].str.replace(\"IDH2.*\", \"IDH2\", regex = True)\n",
    "metadata['exp_group'] = metadata['exp_group'].str.replace(\"WT.*\", \"WT\", regex = True)"
   ]
  },
  {
   "cell_type": "code",
   "execution_count": 14,
   "id": "952107a4-a9d8-4bdb-8e30-e711b6a362da",
   "metadata": {},
   "outputs": [
    {
     "name": "stdout",
     "output_type": "stream",
     "text": [
      "0       WT\n",
      "1       WT\n",
      "2       WT\n",
      "3       WT\n",
      "4     IDH2\n",
      "5     IDH2\n",
      "6     IDH2\n",
      "7     IDH2\n",
      "8     IDH2\n",
      "9     IDH2\n",
      "10    IDH2\n",
      "11    TET2\n",
      "12    TET2\n",
      "13    TET2\n",
      "14    TET2\n",
      "15    TET2\n",
      "16    TET2\n",
      "17    TET2\n",
      "18    TET2\n",
      "Name: exp_group, dtype: object\n"
     ]
    }
   ],
   "source": [
    "# Print to check\n",
    "print(metadata['exp_group'])"
   ]
  },
  {
   "cell_type": "code",
   "execution_count": 15,
   "id": "873e8a7f-cbf4-4ecf-98d9-f07114ae0861",
   "metadata": {},
   "outputs": [],
   "source": [
    "def make_color_key(variable):\n",
    "    \n",
    "    # How many colors do we need?\n",
    "    num_colors = len(variable.unique())\n",
    "    \n",
    "    # Retrieve this many colors\n",
    "    colors = [\"#\"+''.join([random.choice('0123456789ABCDEF') for i in range(6)])\n",
    "       for j in range(num_colors)]\n",
    "    \n",
    "    # Make color key dictionary for these groups\n",
    "    color_key = dict(zip(variable.unique(), colors))\n",
    "\n",
    "    # Make into data frame where index is sample IDs\n",
    "    color_key = pd.Series(variable.map(color_key))\n",
    "    \n",
    "    return(color_key)"
   ]
  },
  {
   "cell_type": "code",
   "execution_count": 16,
   "id": "7b9b7ff3-e2bb-4fde-9fdd-001838be5e5a",
   "metadata": {},
   "outputs": [],
   "source": [
    "color_key_df = pd.concat([make_color_key(metadata['refinebio_treatment']), \n",
    "                          make_color_key(metadata['exp_group'])],\n",
    "                         axis = 1, \n",
    "                         names = ['treatment', 'exp_group'])\n",
    "\n",
    "color_key_df = color_key_df.set_index(df_by_var.columns)"
   ]
  },
  {
   "cell_type": "markdown",
   "id": "05c374e7-ee40-4550-94b6-d64bbe4fd25a",
   "metadata": {},
   "source": [
    "Print out our annotation data frame to make sure it looks right. "
   ]
  },
  {
   "cell_type": "code",
   "execution_count": 17,
   "id": "0aca0aa8-4bca-4247-835c-f0e76d839576",
   "metadata": {
    "tags": []
   },
   "outputs": [
    {
     "data": {
      "text/html": [
       "<div>\n",
       "<style scoped>\n",
       "    .dataframe tbody tr th:only-of-type {\n",
       "        vertical-align: middle;\n",
       "    }\n",
       "\n",
       "    .dataframe tbody tr th {\n",
       "        vertical-align: top;\n",
       "    }\n",
       "\n",
       "    .dataframe thead th {\n",
       "        text-align: right;\n",
       "    }\n",
       "</style>\n",
       "<table border=\"1\" class=\"dataframe\">\n",
       "  <thead>\n",
       "    <tr style=\"text-align: right;\">\n",
       "      <th></th>\n",
       "      <th>refinebio_treatment</th>\n",
       "      <th>exp_group</th>\n",
       "    </tr>\n",
       "  </thead>\n",
       "  <tbody>\n",
       "    <tr>\n",
       "      <th>SRR3189679</th>\n",
       "      <td>#E30212</td>\n",
       "      <td>#221829</td>\n",
       "    </tr>\n",
       "    <tr>\n",
       "      <th>SRR3189680</th>\n",
       "      <td>#E30212</td>\n",
       "      <td>#221829</td>\n",
       "    </tr>\n",
       "    <tr>\n",
       "      <th>SRR3189681</th>\n",
       "      <td>#E30212</td>\n",
       "      <td>#221829</td>\n",
       "    </tr>\n",
       "    <tr>\n",
       "      <th>SRR3189682</th>\n",
       "      <td>#E30212</td>\n",
       "      <td>#221829</td>\n",
       "    </tr>\n",
       "    <tr>\n",
       "      <th>SRR3189683</th>\n",
       "      <td>#3B7000</td>\n",
       "      <td>#FB876E</td>\n",
       "    </tr>\n",
       "    <tr>\n",
       "      <th>SRR3189684</th>\n",
       "      <td>#3B7000</td>\n",
       "      <td>#FB876E</td>\n",
       "    </tr>\n",
       "    <tr>\n",
       "      <th>SRR3189685</th>\n",
       "      <td>#3B7000</td>\n",
       "      <td>#FB876E</td>\n",
       "    </tr>\n",
       "    <tr>\n",
       "      <th>SRR3189686</th>\n",
       "      <td>#BFE425</td>\n",
       "      <td>#FB876E</td>\n",
       "    </tr>\n",
       "    <tr>\n",
       "      <th>SRR3189687</th>\n",
       "      <td>#BFE425</td>\n",
       "      <td>#FB876E</td>\n",
       "    </tr>\n",
       "    <tr>\n",
       "      <th>SRR3189688</th>\n",
       "      <td>#BFE425</td>\n",
       "      <td>#FB876E</td>\n",
       "    </tr>\n",
       "    <tr>\n",
       "      <th>SRR3189689</th>\n",
       "      <td>#BFE425</td>\n",
       "      <td>#FB876E</td>\n",
       "    </tr>\n",
       "    <tr>\n",
       "      <th>SRR3189690</th>\n",
       "      <td>#3B7000</td>\n",
       "      <td>#020A4F</td>\n",
       "    </tr>\n",
       "    <tr>\n",
       "      <th>SRR3189691</th>\n",
       "      <td>#3B7000</td>\n",
       "      <td>#020A4F</td>\n",
       "    </tr>\n",
       "    <tr>\n",
       "      <th>SRR3189692</th>\n",
       "      <td>#3B7000</td>\n",
       "      <td>#020A4F</td>\n",
       "    </tr>\n",
       "    <tr>\n",
       "      <th>SRR3189693</th>\n",
       "      <td>#3B7000</td>\n",
       "      <td>#020A4F</td>\n",
       "    </tr>\n",
       "    <tr>\n",
       "      <th>SRR3189694</th>\n",
       "      <td>#30F72E</td>\n",
       "      <td>#020A4F</td>\n",
       "    </tr>\n",
       "    <tr>\n",
       "      <th>SRR3189695</th>\n",
       "      <td>#30F72E</td>\n",
       "      <td>#020A4F</td>\n",
       "    </tr>\n",
       "    <tr>\n",
       "      <th>SRR3189696</th>\n",
       "      <td>#30F72E</td>\n",
       "      <td>#020A4F</td>\n",
       "    </tr>\n",
       "    <tr>\n",
       "      <th>SRR3189697</th>\n",
       "      <td>#30F72E</td>\n",
       "      <td>#020A4F</td>\n",
       "    </tr>\n",
       "  </tbody>\n",
       "</table>\n",
       "</div>"
      ],
      "text/plain": [
       "           refinebio_treatment exp_group\n",
       "SRR3189679             #E30212   #221829\n",
       "SRR3189680             #E30212   #221829\n",
       "SRR3189681             #E30212   #221829\n",
       "SRR3189682             #E30212   #221829\n",
       "SRR3189683             #3B7000   #FB876E\n",
       "SRR3189684             #3B7000   #FB876E\n",
       "SRR3189685             #3B7000   #FB876E\n",
       "SRR3189686             #BFE425   #FB876E\n",
       "SRR3189687             #BFE425   #FB876E\n",
       "SRR3189688             #BFE425   #FB876E\n",
       "SRR3189689             #BFE425   #FB876E\n",
       "SRR3189690             #3B7000   #020A4F\n",
       "SRR3189691             #3B7000   #020A4F\n",
       "SRR3189692             #3B7000   #020A4F\n",
       "SRR3189693             #3B7000   #020A4F\n",
       "SRR3189694             #30F72E   #020A4F\n",
       "SRR3189695             #30F72E   #020A4F\n",
       "SRR3189696             #30F72E   #020A4F\n",
       "SRR3189697             #30F72E   #020A4F"
      ]
     },
     "execution_count": 17,
     "metadata": {},
     "output_type": "execute_result"
    }
   ],
   "source": [
    "# Check that this is what we think it is\n",
    "color_key_df"
   ]
  },
  {
   "cell_type": "markdown",
   "id": "8a80e4f2-d7b1-47f3-bf8f-7d6ddc6dd621",
   "metadata": {},
   "source": [
    "# Create and store the annotated heatmap object"
   ]
  },
  {
   "cell_type": "code",
   "execution_count": 18,
   "id": "6b2654f1-1baa-41f7-b560-43cbac2025ce",
   "metadata": {},
   "outputs": [
    {
     "name": "stderr",
     "output_type": "stream",
     "text": [
      "/opt/conda/lib/python3.9/site-packages/seaborn/matrix.py:654: UserWarning: Clustering large matrix with scipy. Installing `fastcluster` may give better performance.\n",
      "  warnings.warn(msg)\n"
     ]
    },
    {
     "data": {
      "image/png": "[encoded data removed]",
      "text/plain": [
       "<Figure size 720x720 with 5 Axes>"
      ]
     },
     "metadata": {},
     "output_type": "display_data"
    }
   ],
   "source": [
    "heatmap = sns.clustermap(df_by_var,\n",
    "                         cmap = \"mako\",\n",
    "                         col_colors = color_key_df, \n",
    "                         dendrogram_ratio = (0, .2), \n",
    "                         cbar_pos = (-.1, .2, .03, .5))"
   ]
  },
  {
   "cell_type": "code",
   "execution_count": 19,
   "id": "6bde5745-dd15-40df-9caa-ca3b2c57bb06",
   "metadata": {},
   "outputs": [],
   "source": [
    "# Save to png\n",
    "heatmap.savefig(os.path.join('plots', 'aml_heatmap.png'))"
   ]
  },
  {
   "cell_type": "markdown",
   "id": "6647b305-12df-46d1-b8bb-2fcd5508aa07",
   "metadata": {},
   "source": [
    "### Print out session info "
   ]
  },
  {
   "cell_type": "code",
   "execution_count": 20,
   "id": "fb7c4042-a87a-4492-9374-ea09ca8f4881",
   "metadata": {
    "tags": []
   },
   "outputs": [
    {
     "name": "stdout",
     "output_type": "stream",
     "text": [
      "{'commit_hash': '24512bd29',\n",
      " 'commit_source': 'installation',\n",
      " 'default_encoding': 'utf-8',\n",
      " 'ipython_path': '/opt/conda/lib/python3.9/site-packages/IPython',\n",
      " 'ipython_version': '7.27.0',\n",
      " 'os_name': 'posix',\n",
      " 'platform': 'Linux-5.10.25-linuxkit-x86_64-with-glibc2.31',\n",
      " 'sys_executable': '/opt/conda/bin/python',\n",
      " 'sys_platform': 'linux',\n",
      " 'sys_version': '3.9.6 | packaged by conda-forge | (default, Jul 11 2021, '\n",
      "                '03:39:48) \\n'\n",
      "                '[GCC 9.3.0]'}\n",
      "IPython\t Path\t color_key_df\t data_dir\t data_file\t df_by_var\t dir\t dirs\t expression_df\t \n",
      "heatmap\t make_color_key\t metadata\t metadata_file\t np\t os\t pd\t pyrefinebio\t random\t \n",
      "sns\t upper_quartile\t \n"
     ]
    }
   ],
   "source": [
    "print(IPython.sys_info())\n",
    "\n",
    "# Print out imported objects and libraries\n",
    "%who"
   ]
  }
 ],
 "metadata": {
  "kernelspec": {
   "display_name": "Python 3 (ipykernel)",
   "language": "python",
   "name": "python3"
  },
  "language_info": {
   "codemirror_mode": {
    "name": "ipython",
    "version": 3
   },
   "file_extension": ".py",
   "mimetype": "text/x-python",
   "name": "python",
   "nbconvert_exporter": "python",
   "pygments_lexer": "ipython3",
   "version": "3.9.6"
  }
 },
 "nbformat": 4,
 "nbformat_minor": 5
}

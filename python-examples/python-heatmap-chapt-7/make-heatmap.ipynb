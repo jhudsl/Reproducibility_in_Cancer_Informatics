{
 "cells": [
  {
   "cell_type": "markdown",
   "id": "436a5217-ea3f-4711-887d-44be7d0aa69c",
   "metadata": {},
   "source": [
    "# AML Heatmap\n",
    "\n",
    "Description of this notebook's purposes and goal"
   ]
  },
  {
   "cell_type": "code",
   "execution_count": null,
   "id": "7f2e6241-7cec-42a2-8af3-9385f6c8519f",
   "metadata": {},
   "outputs": [],
   "source": [
    "import os\n",
    "from pathlib import Path\n",
    "import pyrefinebio\n",
    "import statistics\n",
    "import pandas as pd\n",
    "import numpy as np\n",
    "import seaborn as sns; sns.set_theme(color_codes = True)"
   ]
  },
  {
   "cell_type": "code",
   "execution_count": null,
   "id": "d05a52fd-6c9c-4d09-8c7d-ec771d1bfeaf",
   "metadata": {},
   "outputs": [],
   "source": []
  },
  {
   "cell_type": "code",
   "execution_count": null,
   "id": "19b10339-6ddd-4e40-a285-6ca124ae1353",
   "metadata": {},
   "outputs": [],
   "source": [
    "df1[\"Gene\"]\n",
    "df1['calc'] =df1.var(axis = 1, skipna = True)\n",
    "filter_num=df1.calc.quantile([0.90]).values\n",
    "df2 = df1[df1.calc >float(filter_num)]\n",
    "df2 = df_by_var.drop(['calc'], 1)"
   ]
  },
  {
   "cell_type": "code",
   "execution_count": null,
   "id": "f7fef48b-14eb-4e0d-879e-fa0821234b38",
   "metadata": {},
   "outputs": [],
   "source": [
    "refinebio_title = mdf.pop('refinebio_title')\n",
    "keys = dict(zip(refinebio_title.unique(), \"rbg\"))\n",
    "keys_df = pd.DataFrame(exp_group.map(keys))\n",
    "keys_df = color_key_df.set_index(df2.columns)"
   ]
  },
  {
   "cell_type": "code",
   "execution_count": null,
   "id": "ac00bee2-0c3e-4c5f-89d6-50d111a6cc2f",
   "metadata": {},
   "outputs": [],
   "source": [
    "heatmap = sns.clustermap(df2, cmap =\"mako\", col_colors = keys_df, dendrogram_ratio = (0, .2), cbar_pos = (-.1, .2, .03, .5))\n",
    "heatmap.savefig('heatmap.png')"
   ]
  }
 ],
 "metadata": {
  "kernelspec": {
   "display_name": "Python 3",
   "language": "python",
   "name": "python3"
  },
  "language_info": {
   "codemirror_mode": {
    "name": "ipython",
    "version": 3
   },
   "file_extension": ".py",
   "mimetype": "text/x-python",
   "name": "python",
   "nbconvert_exporter": "python",
   "pygments_lexer": "ipython3",
   "version": "3.8.8"
  }
 },
 "nbformat": 4,
 "nbformat_minor": 5
}

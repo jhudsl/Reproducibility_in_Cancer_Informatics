{
 "cells": [
  {
   "cell_type": "markdown",
   "id": "6a466ff0-b545-4d25-acb0-3b148fe454f8",
   "metadata": {},
   "source": [
    "import os\n",
    "import pyrefinebio\n",
    "import seaborn as sns\n",
    "import pandas as pd\n",
    "import numpy as np"
   ]
  },
  {
   "cell_type": "markdown",
   "id": "2699c906-4fc2-4480-beab-7d5b8ac3a6b5",
   "metadata": {},
   "source": []
  },
  {
   "cell_type": "code",
   "execution_count": 2,
   "id": "f671788a-cd07-4a68-a21f-f4680bac20b8",
   "metadata": {},
   "outputs": [],
   "source": [
    "os.mkdir(\"data\", mode = 0o777)"
   ]
  },
  {
   "cell_type": "code",
   "execution_count": 3,
   "id": "9e0076d8-f794-408f-b5a7-b785eacd9ee9",
   "metadata": {},
   "outputs": [
    {
     "name": "stdout",
     "output_type": "stream",
     "text": [
      "Creating Dataset...\n",
      "Processing Dataset...\n",
      "Downloading Dataset...\n",
      "Extracting Dataset...\n"
     ]
    },
    {
     "data": {
      "text/plain": [
       "<pyrefinebio.dataset.Dataset at 0x7f50c4589b80>"
      ]
     },
     "execution_count": 3,
     "metadata": {},
     "output_type": "execute_result"
    }
   ],
   "source": [
    "pyrefinebio.create_token(agree_to_terms=True, save_token=False)\n",
    "\n",
    "pyrefinebio.download_dataset(\n",
    "    \"data/dataset.zip\",\n",
    "    \"cansav09@gmail.com\",\n",
    "    experiments=[\"SRP070849\"],\n",
    "    extract=True\n",
    ")"
   ]
  },
  {
   "cell_type": "code",
   "execution_count": 6,
   "id": "758c518f-0a27-48f9-bd60-539010394bdd",
   "metadata": {},
   "outputs": [],
   "source": [
    "dataset = pd.read_csv('SRP070849/SRP070849.tsv', sep='\\t')"
   ]
  },
  {
   "cell_type": "code",
   "execution_count": 8,
   "id": "aea639c9-4688-4f1f-bb1d-a16e136cd323",
   "metadata": {},
   "outputs": [
    {
     "data": {
      "text/html": [
       "<div>\n",
       "<style scoped>\n",
       "    .dataframe tbody tr th:only-of-type {\n",
       "        vertical-align: middle;\n",
       "    }\n",
       "\n",
       "    .dataframe tbody tr th {\n",
       "        vertical-align: top;\n",
       "    }\n",
       "\n",
       "    .dataframe thead th {\n",
       "        text-align: right;\n",
       "    }\n",
       "</style>\n",
       "<table border=\"1\" class=\"dataframe\">\n",
       "  <thead>\n",
       "    <tr style=\"text-align: right;\">\n",
       "      <th></th>\n",
       "      <th>Gene</th>\n",
       "      <th>SRR3189679</th>\n",
       "      <th>SRR3189680</th>\n",
       "      <th>SRR3189681</th>\n",
       "      <th>SRR3189682</th>\n",
       "      <th>SRR3189683</th>\n",
       "      <th>SRR3189684</th>\n",
       "      <th>SRR3189685</th>\n",
       "      <th>SRR3189686</th>\n",
       "      <th>SRR3189687</th>\n",
       "      <th>SRR3189688</th>\n",
       "      <th>SRR3189689</th>\n",
       "      <th>SRR3189690</th>\n",
       "      <th>SRR3189691</th>\n",
       "      <th>SRR3189692</th>\n",
       "      <th>SRR3189693</th>\n",
       "      <th>SRR3189694</th>\n",
       "      <th>SRR3189695</th>\n",
       "      <th>SRR3189696</th>\n",
       "      <th>SRR3189697</th>\n",
       "    </tr>\n",
       "  </thead>\n",
       "  <tbody>\n",
       "    <tr>\n",
       "      <th>0</th>\n",
       "      <td>ENSMUSG00000000001</td>\n",
       "      <td>15.662377</td>\n",
       "      <td>14.020692</td>\n",
       "      <td>15.555238</td>\n",
       "      <td>12.530303</td>\n",
       "      <td>30.260702</td>\n",
       "      <td>21.886351</td>\n",
       "      <td>16.977010</td>\n",
       "      <td>15.910325</td>\n",
       "      <td>13.964012</td>\n",
       "      <td>20.334315</td>\n",
       "      <td>11.648719</td>\n",
       "      <td>15.173052</td>\n",
       "      <td>23.691737</td>\n",
       "      <td>25.125880</td>\n",
       "      <td>17.408528</td>\n",
       "      <td>19.021748</td>\n",
       "      <td>14.434416</td>\n",
       "      <td>17.999310</td>\n",
       "      <td>15.497156</td>\n",
       "    </tr>\n",
       "    <tr>\n",
       "      <th>1</th>\n",
       "      <td>ENSMUSG00000000003</td>\n",
       "      <td>0.028563</td>\n",
       "      <td>0.036579</td>\n",
       "      <td>0.419964</td>\n",
       "      <td>0.021979</td>\n",
       "      <td>0.075532</td>\n",
       "      <td>0.064158</td>\n",
       "      <td>0.054916</td>\n",
       "      <td>0.033680</td>\n",
       "      <td>0.046358</td>\n",
       "      <td>0.058368</td>\n",
       "      <td>0.033990</td>\n",
       "      <td>0.060480</td>\n",
       "      <td>0.125081</td>\n",
       "      <td>0.079634</td>\n",
       "      <td>0.050264</td>\n",
       "      <td>0.062190</td>\n",
       "      <td>0.046092</td>\n",
       "      <td>0.055518</td>\n",
       "      <td>0.083768</td>\n",
       "    </tr>\n",
       "    <tr>\n",
       "      <th>2</th>\n",
       "      <td>ENSMUSG00000000028</td>\n",
       "      <td>5.150481</td>\n",
       "      <td>7.498046</td>\n",
       "      <td>5.717152</td>\n",
       "      <td>5.034920</td>\n",
       "      <td>11.635079</td>\n",
       "      <td>12.077084</td>\n",
       "      <td>8.502686</td>\n",
       "      <td>7.605635</td>\n",
       "      <td>5.431773</td>\n",
       "      <td>7.401169</td>\n",
       "      <td>9.781360</td>\n",
       "      <td>9.532716</td>\n",
       "      <td>8.701792</td>\n",
       "      <td>7.958705</td>\n",
       "      <td>8.861361</td>\n",
       "      <td>8.829696</td>\n",
       "      <td>7.839187</td>\n",
       "      <td>8.560792</td>\n",
       "      <td>6.990834</td>\n",
       "    </tr>\n",
       "    <tr>\n",
       "      <th>3</th>\n",
       "      <td>ENSMUSG00000000031</td>\n",
       "      <td>0.923775</td>\n",
       "      <td>0.622761</td>\n",
       "      <td>0.037410</td>\n",
       "      <td>0.418679</td>\n",
       "      <td>0.075532</td>\n",
       "      <td>0.064158</td>\n",
       "      <td>1.384295</td>\n",
       "      <td>0.497883</td>\n",
       "      <td>0.046358</td>\n",
       "      <td>1.242944</td>\n",
       "      <td>0.511846</td>\n",
       "      <td>0.803937</td>\n",
       "      <td>2.510960</td>\n",
       "      <td>1.560483</td>\n",
       "      <td>1.424694</td>\n",
       "      <td>0.062190</td>\n",
       "      <td>0.754587</td>\n",
       "      <td>0.348850</td>\n",
       "      <td>0.083768</td>\n",
       "    </tr>\n",
       "    <tr>\n",
       "      <th>4</th>\n",
       "      <td>ENSMUSG00000000037</td>\n",
       "      <td>2.947676</td>\n",
       "      <td>3.047156</td>\n",
       "      <td>2.851992</td>\n",
       "      <td>3.006278</td>\n",
       "      <td>4.073379</td>\n",
       "      <td>3.221718</td>\n",
       "      <td>2.847645</td>\n",
       "      <td>2.720893</td>\n",
       "      <td>2.668958</td>\n",
       "      <td>3.995019</td>\n",
       "      <td>2.276475</td>\n",
       "      <td>3.380865</td>\n",
       "      <td>2.523756</td>\n",
       "      <td>3.932793</td>\n",
       "      <td>3.816612</td>\n",
       "      <td>3.075951</td>\n",
       "      <td>3.312766</td>\n",
       "      <td>2.887687</td>\n",
       "      <td>3.211649</td>\n",
       "    </tr>\n",
       "  </tbody>\n",
       "</table>\n",
       "</div>"
      ],
      "text/plain": [
       "                 Gene  SRR3189679  SRR3189680  SRR3189681  SRR3189682  \\\n",
       "0  ENSMUSG00000000001   15.662377   14.020692   15.555238   12.530303   \n",
       "1  ENSMUSG00000000003    0.028563    0.036579    0.419964    0.021979   \n",
       "2  ENSMUSG00000000028    5.150481    7.498046    5.717152    5.034920   \n",
       "3  ENSMUSG00000000031    0.923775    0.622761    0.037410    0.418679   \n",
       "4  ENSMUSG00000000037    2.947676    3.047156    2.851992    3.006278   \n",
       "\n",
       "   SRR3189683  SRR3189684  SRR3189685  SRR3189686  SRR3189687  SRR3189688  \\\n",
       "0   30.260702   21.886351   16.977010   15.910325   13.964012   20.334315   \n",
       "1    0.075532    0.064158    0.054916    0.033680    0.046358    0.058368   \n",
       "2   11.635079   12.077084    8.502686    7.605635    5.431773    7.401169   \n",
       "3    0.075532    0.064158    1.384295    0.497883    0.046358    1.242944   \n",
       "4    4.073379    3.221718    2.847645    2.720893    2.668958    3.995019   \n",
       "\n",
       "   SRR3189689  SRR3189690  SRR3189691  SRR3189692  SRR3189693  SRR3189694  \\\n",
       "0   11.648719   15.173052   23.691737   25.125880   17.408528   19.021748   \n",
       "1    0.033990    0.060480    0.125081    0.079634    0.050264    0.062190   \n",
       "2    9.781360    9.532716    8.701792    7.958705    8.861361    8.829696   \n",
       "3    0.511846    0.803937    2.510960    1.560483    1.424694    0.062190   \n",
       "4    2.276475    3.380865    2.523756    3.932793    3.816612    3.075951   \n",
       "\n",
       "   SRR3189695  SRR3189696  SRR3189697  \n",
       "0   14.434416   17.999310   15.497156  \n",
       "1    0.046092    0.055518    0.083768  \n",
       "2    7.839187    8.560792    6.990834  \n",
       "3    0.754587    0.348850    0.083768  \n",
       "4    3.312766    2.887687    3.211649  "
      ]
     },
     "execution_count": 8,
     "metadata": {},
     "output_type": "execute_result"
    }
   ],
   "source": [
    "dataset.head(5)"
   ]
  },
  {
   "cell_type": "code",
   "execution_count": 9,
   "id": "b0b5f623-723f-451c-b158-5673fc3bd126",
   "metadata": {},
   "outputs": [],
   "source": [
    "gene = dataset[\"Gene\"]"
   ]
  },
  {
   "cell_type": "code",
   "execution_count": 10,
   "id": "f78ddd6e-be69-44df-a2d1-c6118a598e7e",
   "metadata": {},
   "outputs": [
    {
     "data": {
      "text/plain": [
       "0    ENSMUSG00000000001\n",
       "1    ENSMUSG00000000003\n",
       "2    ENSMUSG00000000028\n",
       "3    ENSMUSG00000000031\n",
       "4    ENSMUSG00000000037\n",
       "Name: Gene, dtype: object"
      ]
     },
     "execution_count": 10,
     "metadata": {},
     "output_type": "execute_result"
    }
   ],
   "source": [
    "gene.head(5)"
   ]
  },
  {
   "cell_type": "code",
   "execution_count": 14,
   "id": "1eb9632b-1684-4b77-b008-3ea55951ab18",
   "metadata": {},
   "outputs": [
    {
     "name": "stderr",
     "output_type": "stream",
     "text": [
      "/tmp/ipykernel_88/821179272.py:1: FutureWarning: In a future version of pandas all arguments of DataFrame.drop except for the argument 'labels' will be keyword-only\n",
      "  dataset = dataset.drop('Gene', 1)\n"
     ]
    }
   ],
   "source": [
    "dataset = dataset.drop('Gene', 1)"
   ]
  },
  {
   "cell_type": "code",
   "execution_count": null,
   "id": "6b2654f1-1baa-41f7-b560-43cbac2025ce",
   "metadata": {},
   "outputs": [],
   "source": [
    "sns.heatmap(dataset, yticklabels=gene)"
   ]
  },
  {
   "cell_type": "code",
   "execution_count": null,
   "id": "1aed4dbd-ff9c-48c8-839a-bf465459f080",
   "metadata": {},
   "outputs": [],
   "source": []
  }
 ],
 "metadata": {
  "kernelspec": {
   "display_name": "Python 3 (ipykernel)",
   "language": "python",
   "name": "python3"
  },
  "language_info": {
   "codemirror_mode": {
    "name": "ipython",
    "version": 3
   },
   "file_extension": ".py",
   "mimetype": "text/x-python",
   "name": "python",
   "nbconvert_exporter": "python",
   "pygments_lexer": "ipython3",
   "version": "3.9.6"
  }
 },
 "nbformat": 4,
 "nbformat_minor": 5
}

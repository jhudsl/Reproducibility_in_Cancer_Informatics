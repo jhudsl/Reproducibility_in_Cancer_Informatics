{
 "cells": [
  {
   "cell_type": "markdown",
   "id": "f50449a9-085f-41db-a163-240235ef7d5d",
   "metadata": {
    "tags": []
   },
   "source": [
    "# Acute myeloid leukemia mouse model heatmap\n",
    "_Author: Candace Savonen adapted this analysis based on this [R refine.bio-examples notebook](https://alexslemonade.github.io/refinebio-examples/03-rnaseq/clustering_rnaseq_01_heatmap.html)_   \n",
    "_Date: October 2021_  \n",
    "\n",
    "## Purpose of the analysis\n",
    "\n",
    "In this analysis, we will use this [acute myeloid leukemia sample dataset](https://www.refine.bio/experiments/SRP070849) from [Shih et al, 2017](https://pubmed.ncbi.nlm.nih.gov/28193779/) and pre-processed by [refinebio](https://www.refine.bio/).\n",
    "\n",
    "The data that we downloaded from [refine.bio](https://www.refine.bio/) for this analysis has 19 samples (obtained from 19 acute myeloid leukemia (AML) model mice), containing RNA-sequencing results for types of AML under controlled treatment conditions.\n",
    "\n",
    "This [dataset can be downloaded from this page on refine.bio](https://www.refine.bio/experiments/SRP070849). \n",
    "We will download it already [processed and quantile normalized](http://docs.refine.bio/en/latest/main_text.html#refine-bio-processed-refinebio-processedibadge). "
   ]
  },
  {
   "cell_type": "markdown",
   "id": "7d577ecd-fcc8-4b7b-9b20-d6966820a4f3",
   "metadata": {},
   "source": [
    "## Import libraries"
   ]
  },
  {
   "cell_type": "code",
   "execution_count": 1,
   "id": "df650612-9a65-41d8-b94e-a86007e76f0f",
   "metadata": {
    "execution": {
     "iopub.execute_input": "2021-11-02T13:12:52.913324Z",
     "iopub.status.busy": "2021-11-02T13:12:52.912552Z",
     "iopub.status.idle": "2021-11-02T13:12:55.351651Z",
     "shell.execute_reply": "2021-11-02T13:12:55.351072Z"
    },
    "tags": []
   },
   "outputs": [],
   "source": [
    "# We need this for creating directories\n",
    "import os\n",
    "from pathlib import Path\n",
    "\n",
    "# For session info\n",
    "import session_info\n",
    "\n",
    "# We need this for downloading data from refine.bio\n",
    "import pyrefinebio\n",
    "\n",
    "# We will use these for manipulating our data\n",
    "import pandas as pd\n",
    "import numpy as np\n",
    "import random\n",
    "\n",
    "# We will use this for making the heatmap and these for the color codes\n",
    "import seaborn as sns\n",
    "\n",
    "sns.set_theme(color_codes=True)\n",
    "\n",
    "# Import custom color key function\n",
    "import util.color_key as color_key\n",
    "\n",
    "import matplotlib.pyplot as plt"
   ]
  },
  {
   "cell_type": "markdown",
   "id": "f7b0d794-d6db-47fa-ac25-e580c20a23d5",
   "metadata": {},
   "source": [
    "Set the seed"
   ]
  },
  {
   "cell_type": "code",
   "execution_count": 2,
   "id": "c08cc038-06c6-4753-8219-39d74c077622",
   "metadata": {
    "execution": {
     "iopub.execute_input": "2021-11-02T13:12:55.356637Z",
     "iopub.status.busy": "2021-11-02T13:12:55.355949Z",
     "iopub.status.idle": "2021-11-02T13:12:55.359202Z",
     "shell.execute_reply": "2021-11-02T13:12:55.358712Z"
    },
    "tags": []
   },
   "outputs": [],
   "source": [
    "random.seed(1234)"
   ]
  },
  {
   "cell_type": "markdown",
   "id": "76dc0d3f-ab86-4f0b-b543-6c25dc6526af",
   "metadata": {},
   "source": [
    "## Set up analysis folders"
   ]
  },
  {
   "cell_type": "code",
   "execution_count": 3,
   "id": "f2702445-afbf-42e5-901f-aae725f3c344",
   "metadata": {
    "execution": {
     "iopub.execute_input": "2021-11-02T13:12:55.367787Z",
     "iopub.status.busy": "2021-11-02T13:12:55.366838Z",
     "iopub.status.idle": "2021-11-02T13:12:55.369953Z",
     "shell.execute_reply": "2021-11-02T13:12:55.369352Z"
    },
    "tags": []
   },
   "outputs": [],
   "source": [
    "dirnames = [\"data\", \"results\", \"plots\"]\n",
    "\n",
    "# Create the directory if it doesn't exist\n",
    "for dirname in dirnames:\n",
    "    if not os.path.isdir(dirname):\n",
    "        os.mkdir(dirname)"
   ]
  },
  {
   "cell_type": "markdown",
   "id": "d68c55f7-2115-453e-b591-fe808e7b3a67",
   "metadata": {},
   "source": [
    "This notebook will be downloading the data for the project ID 'SRP070849' from refine.bio. \n",
    "By switching the line below, the rest of the notebook where the the experiment ID is referenced will be updated. "
   ]
  },
  {
   "cell_type": "code",
   "execution_count": 4,
   "id": "f67e9d40-4cf8-433a-b18d-1dc93d716746",
   "metadata": {
    "execution": {
     "iopub.execute_input": "2021-11-02T13:12:55.374069Z",
     "iopub.status.busy": "2021-11-02T13:12:55.373501Z",
     "iopub.status.idle": "2021-11-02T13:12:55.376588Z",
     "shell.execute_reply": "2021-11-02T13:12:55.376050Z"
    },
    "tags": []
   },
   "outputs": [],
   "source": [
    "# Declare project ID\n",
    "id = \"SRP070849\""
   ]
  },
  {
   "cell_type": "code",
   "execution_count": 5,
   "id": "1998d768-95e8-4950-af78-2aeea3fa3be3",
   "metadata": {
    "execution": {
     "iopub.execute_input": "2021-11-02T13:12:55.381627Z",
     "iopub.status.busy": "2021-11-02T13:12:55.380989Z",
     "iopub.status.idle": "2021-11-02T13:12:55.383648Z",
     "shell.execute_reply": "2021-11-02T13:12:55.383126Z"
    }
   },
   "outputs": [],
   "source": [
    "# Define the file path to the data directory\n",
    "data_dir = Path(f\"data/{id}\")\n",
    "\n",
    "# Declare the file path to the gene expression matrix file\n",
    "data_file = data_dir.joinpath(f\"{id}.tsv\")\n",
    "\n",
    "# Declare the file path to the metadata file\n",
    "# inside the directory saved as `data_dir`\n",
    "metadata_file = data_dir.joinpath(f\"metadata_{id}.tsv\")"
   ]
  },
  {
   "cell_type": "markdown",
   "id": "48d9ab59-e2e0-42b6-a228-331808de9b38",
   "metadata": {
    "tags": []
   },
   "source": [
    "## Import and set up data\n",
    "\n",
    "First we will download our dataset from refine.bio using their API client. But we will only download if the files don't already exist locally.  "
   ]
  },
  {
   "cell_type": "code",
   "execution_count": 6,
   "id": "9e0076d8-f794-408f-b5a7-b785eacd9ee9",
   "metadata": {
    "execution": {
     "iopub.execute_input": "2021-11-02T13:12:55.390543Z",
     "iopub.status.busy": "2021-11-02T13:12:55.388744Z",
     "iopub.status.idle": "2021-11-02T13:12:55.391153Z",
     "shell.execute_reply": "2021-11-02T13:12:55.391595Z"
    }
   },
   "outputs": [],
   "source": [
    "if not data_file.exists() or not metadata_file.exists():\n",
    "\n",
    "    print(f\"Downloading {id} from refine.bio\")\n",
    "\n",
    "    pyrefinebio.create_token(agree_to_terms=True, save_token=False)\n",
    "\n",
    "    pyrefinebio.download_dataset(\n",
    "        data_dir.joinpath(\"dataset.zip\"),\n",
    "        \"cansav09@gmail.com\",\n",
    "        experiments=[f\"{id}\"],\n",
    "        extract=True,\n",
    "    )"
   ]
  },
  {
   "cell_type": "markdown",
   "id": "6b5afe8b-0aab-439f-b741-4d5a5d04bc06",
   "metadata": {},
   "source": [
    "Now we can read in our expression data and metadata with `pandas`. "
   ]
  },
  {
   "cell_type": "code",
   "execution_count": 7,
   "id": "758c518f-0a27-48f9-bd60-539010394bdd",
   "metadata": {
    "execution": {
     "iopub.execute_input": "2021-11-02T13:12:55.396472Z",
     "iopub.status.busy": "2021-11-02T13:12:55.395666Z",
     "iopub.status.idle": "2021-11-02T13:12:55.403053Z",
     "shell.execute_reply": "2021-11-02T13:12:55.402565Z"
    }
   },
   "outputs": [],
   "source": [
    "# Read in metadata TSV file\n",
    "metadata = pd.read_csv(metadata_file, sep=\"\\t\")"
   ]
  },
  {
   "cell_type": "code",
   "execution_count": 8,
   "id": "e9a28f4e-902f-41b0-ab29-e41b816c936c",
   "metadata": {
    "execution": {
     "iopub.execute_input": "2021-11-02T13:12:55.408158Z",
     "iopub.status.busy": "2021-11-02T13:12:55.407187Z",
     "iopub.status.idle": "2021-11-02T13:12:55.576790Z",
     "shell.execute_reply": "2021-11-02T13:12:55.577222Z"
    }
   },
   "outputs": [],
   "source": [
    "# Read in data TSV file\n",
    "expression_df = pd.read_csv(data_file, sep=\"\\t\")"
   ]
  },
  {
   "cell_type": "markdown",
   "id": "00e6b63f-d8ae-4ab0-aa63-bfe40e1f715c",
   "metadata": {},
   "source": [
    "For our seaborn heatmap, we will what our gene IDs to be set as the index of our data frame. "
   ]
  },
  {
   "cell_type": "code",
   "execution_count": 9,
   "id": "89021391-aae7-462b-bc8d-02c99f8ace93",
   "metadata": {
    "execution": {
     "iopub.execute_input": "2021-11-02T13:12:55.583484Z",
     "iopub.status.busy": "2021-11-02T13:12:55.582834Z",
     "iopub.status.idle": "2021-11-02T13:12:55.585176Z",
     "shell.execute_reply": "2021-11-02T13:12:55.584694Z"
    }
   },
   "outputs": [],
   "source": [
    "# Set the Gene column as the index\n",
    "expression_df.set_index(\"Gene\", inplace=True)"
   ]
  },
  {
   "cell_type": "markdown",
   "id": "97d096c3-79d6-4a2e-8eb7-aa7956f76db5",
   "metadata": {},
   "source": [
    "Let's take a look at the metadata object that we read into the R environment."
   ]
  },
  {
   "cell_type": "code",
   "execution_count": 10,
   "id": "97845fff-bb1a-4e2c-9881-96ab19a74527",
   "metadata": {
    "execution": {
     "iopub.execute_input": "2021-11-02T13:12:55.595025Z",
     "iopub.status.busy": "2021-11-02T13:12:55.594022Z",
     "iopub.status.idle": "2021-11-02T13:12:55.620844Z",
     "shell.execute_reply": "2021-11-02T13:12:55.621315Z"
    }
   },
   "outputs": [
    {
     "data": {
      "text/html": [
       "<div>\n",
       "<style scoped>\n",
       "    .dataframe tbody tr th:only-of-type {\n",
       "        vertical-align: middle;\n",
       "    }\n",
       "\n",
       "    .dataframe tbody tr th {\n",
       "        vertical-align: top;\n",
       "    }\n",
       "\n",
       "    .dataframe thead th {\n",
       "        text-align: right;\n",
       "    }\n",
       "</style>\n",
       "<table border=\"1\" class=\"dataframe\">\n",
       "  <thead>\n",
       "    <tr style=\"text-align: right;\">\n",
       "      <th></th>\n",
       "      <th>refinebio_accession_code</th>\n",
       "      <th>experiment_accession</th>\n",
       "      <th>refinebio_age</th>\n",
       "      <th>refinebio_cell_line</th>\n",
       "      <th>refinebio_compound</th>\n",
       "      <th>refinebio_disease</th>\n",
       "      <th>refinebio_disease_stage</th>\n",
       "      <th>refinebio_genetic_information</th>\n",
       "      <th>refinebio_organism</th>\n",
       "      <th>refinebio_platform</th>\n",
       "      <th>...</th>\n",
       "      <th>refinebio_processor_version</th>\n",
       "      <th>refinebio_race</th>\n",
       "      <th>refinebio_sex</th>\n",
       "      <th>refinebio_source_archive_url</th>\n",
       "      <th>refinebio_source_database</th>\n",
       "      <th>refinebio_specimen_part</th>\n",
       "      <th>refinebio_subject</th>\n",
       "      <th>refinebio_time</th>\n",
       "      <th>refinebio_title</th>\n",
       "      <th>refinebio_treatment</th>\n",
       "    </tr>\n",
       "  </thead>\n",
       "  <tbody>\n",
       "    <tr>\n",
       "      <th>0</th>\n",
       "      <td>SRR3189679</td>\n",
       "      <td>SRP070849</td>\n",
       "      <td>NaN</td>\n",
       "      <td>NaN</td>\n",
       "      <td>NaN</td>\n",
       "      <td>NaN</td>\n",
       "      <td>NaN</td>\n",
       "      <td>NaN</td>\n",
       "      <td>MUS_MUSCULUS</td>\n",
       "      <td>Illumina HiSeq 2000 (IlluminaHiSeq2000)</td>\n",
       "      <td>...</td>\n",
       "      <td>v1.25.6-hotfix</td>\n",
       "      <td>NaN</td>\n",
       "      <td>NaN</td>\n",
       "      <td>NaN</td>\n",
       "      <td>SRA</td>\n",
       "      <td>lin-sca+ckit+</td>\n",
       "      <td>hematopoietic stem cells</td>\n",
       "      <td>NaN</td>\n",
       "      <td>WT-1 RNA-Seq</td>\n",
       "      <td>none</td>\n",
       "    </tr>\n",
       "    <tr>\n",
       "      <th>1</th>\n",
       "      <td>SRR3189680</td>\n",
       "      <td>SRP070849</td>\n",
       "      <td>NaN</td>\n",
       "      <td>NaN</td>\n",
       "      <td>NaN</td>\n",
       "      <td>NaN</td>\n",
       "      <td>NaN</td>\n",
       "      <td>NaN</td>\n",
       "      <td>MUS_MUSCULUS</td>\n",
       "      <td>Illumina HiSeq 2000 (IlluminaHiSeq2000)</td>\n",
       "      <td>...</td>\n",
       "      <td>v1.25.6-hotfix</td>\n",
       "      <td>NaN</td>\n",
       "      <td>NaN</td>\n",
       "      <td>NaN</td>\n",
       "      <td>SRA</td>\n",
       "      <td>lin-sca+ckit+</td>\n",
       "      <td>hematopoietic stem cells</td>\n",
       "      <td>NaN</td>\n",
       "      <td>WT-2 RNA-Seq</td>\n",
       "      <td>none</td>\n",
       "    </tr>\n",
       "    <tr>\n",
       "      <th>2</th>\n",
       "      <td>SRR3189681</td>\n",
       "      <td>SRP070849</td>\n",
       "      <td>NaN</td>\n",
       "      <td>NaN</td>\n",
       "      <td>NaN</td>\n",
       "      <td>NaN</td>\n",
       "      <td>NaN</td>\n",
       "      <td>NaN</td>\n",
       "      <td>MUS_MUSCULUS</td>\n",
       "      <td>Illumina HiSeq 2000 (IlluminaHiSeq2000)</td>\n",
       "      <td>...</td>\n",
       "      <td>v1.25.6-hotfix</td>\n",
       "      <td>NaN</td>\n",
       "      <td>NaN</td>\n",
       "      <td>NaN</td>\n",
       "      <td>SRA</td>\n",
       "      <td>lin-sca+ckit+</td>\n",
       "      <td>hematopoietic stem cells</td>\n",
       "      <td>NaN</td>\n",
       "      <td>WT-3 RNA-Seq</td>\n",
       "      <td>none</td>\n",
       "    </tr>\n",
       "    <tr>\n",
       "      <th>3</th>\n",
       "      <td>SRR3189682</td>\n",
       "      <td>SRP070849</td>\n",
       "      <td>NaN</td>\n",
       "      <td>NaN</td>\n",
       "      <td>NaN</td>\n",
       "      <td>NaN</td>\n",
       "      <td>NaN</td>\n",
       "      <td>NaN</td>\n",
       "      <td>MUS_MUSCULUS</td>\n",
       "      <td>Illumina HiSeq 2000 (IlluminaHiSeq2000)</td>\n",
       "      <td>...</td>\n",
       "      <td>v1.25.6-hotfix</td>\n",
       "      <td>NaN</td>\n",
       "      <td>NaN</td>\n",
       "      <td>NaN</td>\n",
       "      <td>SRA</td>\n",
       "      <td>lin-sca+ckit+</td>\n",
       "      <td>hematopoietic stem cells</td>\n",
       "      <td>NaN</td>\n",
       "      <td>WT-4 RNA-Seq</td>\n",
       "      <td>none</td>\n",
       "    </tr>\n",
       "    <tr>\n",
       "      <th>4</th>\n",
       "      <td>SRR3189683</td>\n",
       "      <td>SRP070849</td>\n",
       "      <td>NaN</td>\n",
       "      <td>NaN</td>\n",
       "      <td>NaN</td>\n",
       "      <td>NaN</td>\n",
       "      <td>NaN</td>\n",
       "      <td>NaN</td>\n",
       "      <td>MUS_MUSCULUS</td>\n",
       "      <td>Illumina HiSeq 2000 (IlluminaHiSeq2000)</td>\n",
       "      <td>...</td>\n",
       "      <td>v1.25.6-hotfix</td>\n",
       "      <td>NaN</td>\n",
       "      <td>NaN</td>\n",
       "      <td>NaN</td>\n",
       "      <td>SRA</td>\n",
       "      <td>lin-sca+ckit+</td>\n",
       "      <td>hematopoietic stem cells</td>\n",
       "      <td>NaN</td>\n",
       "      <td>IDH2.FLT3_veh_1 RNA-Seq</td>\n",
       "      <td>vehicle</td>\n",
       "    </tr>\n",
       "  </tbody>\n",
       "</table>\n",
       "<p>5 rows × 23 columns</p>\n",
       "</div>"
      ],
      "text/plain": [
       "  refinebio_accession_code experiment_accession  refinebio_age  \\\n",
       "0               SRR3189679            SRP070849            NaN   \n",
       "1               SRR3189680            SRP070849            NaN   \n",
       "2               SRR3189681            SRP070849            NaN   \n",
       "3               SRR3189682            SRP070849            NaN   \n",
       "4               SRR3189683            SRP070849            NaN   \n",
       "\n",
       "   refinebio_cell_line  refinebio_compound  refinebio_disease  \\\n",
       "0                  NaN                 NaN                NaN   \n",
       "1                  NaN                 NaN                NaN   \n",
       "2                  NaN                 NaN                NaN   \n",
       "3                  NaN                 NaN                NaN   \n",
       "4                  NaN                 NaN                NaN   \n",
       "\n",
       "   refinebio_disease_stage  refinebio_genetic_information refinebio_organism  \\\n",
       "0                      NaN                            NaN       MUS_MUSCULUS   \n",
       "1                      NaN                            NaN       MUS_MUSCULUS   \n",
       "2                      NaN                            NaN       MUS_MUSCULUS   \n",
       "3                      NaN                            NaN       MUS_MUSCULUS   \n",
       "4                      NaN                            NaN       MUS_MUSCULUS   \n",
       "\n",
       "                        refinebio_platform  ...  refinebio_processor_version  \\\n",
       "0  Illumina HiSeq 2000 (IlluminaHiSeq2000)  ...               v1.25.6-hotfix   \n",
       "1  Illumina HiSeq 2000 (IlluminaHiSeq2000)  ...               v1.25.6-hotfix   \n",
       "2  Illumina HiSeq 2000 (IlluminaHiSeq2000)  ...               v1.25.6-hotfix   \n",
       "3  Illumina HiSeq 2000 (IlluminaHiSeq2000)  ...               v1.25.6-hotfix   \n",
       "4  Illumina HiSeq 2000 (IlluminaHiSeq2000)  ...               v1.25.6-hotfix   \n",
       "\n",
       "   refinebio_race refinebio_sex refinebio_source_archive_url  \\\n",
       "0             NaN           NaN                          NaN   \n",
       "1             NaN           NaN                          NaN   \n",
       "2             NaN           NaN                          NaN   \n",
       "3             NaN           NaN                          NaN   \n",
       "4             NaN           NaN                          NaN   \n",
       "\n",
       "   refinebio_source_database  refinebio_specimen_part  \\\n",
       "0                        SRA            lin-sca+ckit+   \n",
       "1                        SRA            lin-sca+ckit+   \n",
       "2                        SRA            lin-sca+ckit+   \n",
       "3                        SRA            lin-sca+ckit+   \n",
       "4                        SRA            lin-sca+ckit+   \n",
       "\n",
       "          refinebio_subject refinebio_time          refinebio_title  \\\n",
       "0  hematopoietic stem cells            NaN             WT-1 RNA-Seq   \n",
       "1  hematopoietic stem cells            NaN             WT-2 RNA-Seq   \n",
       "2  hematopoietic stem cells            NaN             WT-3 RNA-Seq   \n",
       "3  hematopoietic stem cells            NaN             WT-4 RNA-Seq   \n",
       "4  hematopoietic stem cells            NaN  IDH2.FLT3_veh_1 RNA-Seq   \n",
       "\n",
       "  refinebio_treatment  \n",
       "0                none  \n",
       "1                none  \n",
       "2                none  \n",
       "3                none  \n",
       "4             vehicle  \n",
       "\n",
       "[5 rows x 23 columns]"
      ]
     },
     "execution_count": 10,
     "metadata": {},
     "output_type": "execute_result"
    }
   ],
   "source": [
    "metadata.head(5)"
   ]
  },
  {
   "cell_type": "markdown",
   "id": "ddf3119e-4e6c-450e-b8ab-1137c51b1d2d",
   "metadata": {},
   "source": [
    "Now let's ensure that the metadata and data are in the same sample order."
   ]
  },
  {
   "cell_type": "code",
   "execution_count": 11,
   "id": "fe6c78b5-f2de-44b3-9e96-7d9fd59d5c0f",
   "metadata": {
    "execution": {
     "iopub.execute_input": "2021-11-02T13:12:55.629334Z",
     "iopub.status.busy": "2021-11-02T13:12:55.627540Z",
     "iopub.status.idle": "2021-11-02T13:12:55.631392Z",
     "shell.execute_reply": "2021-11-02T13:12:55.630883Z"
    }
   },
   "outputs": [
    {
     "name": "stdout",
     "output_type": "stream",
     "text": [
      "True\n"
     ]
    }
   ],
   "source": [
    "print(metadata[\"refinebio_accession_code\"].tolist() == expression_df.columns.tolist())"
   ]
  },
  {
   "cell_type": "markdown",
   "id": "be85643c-a0c8-41f0-ad12-399e663b232e",
   "metadata": {},
   "source": [
    "## Choose genes of interest\n",
    "\n",
    "For this example, we will sort genes by variance and select genes in the upper quartile, but there are many alternative criterion by which you may want to sort your genes, <i>e.g.</i> fold change, t-statistic, membership in a particular gene ontology, so on."
   ]
  },
  {
   "cell_type": "code",
   "execution_count": 12,
   "id": "61ef8280-0ff2-4398-aa29-d7d394ec4272",
   "metadata": {
    "execution": {
     "iopub.execute_input": "2021-11-02T13:12:55.637884Z",
     "iopub.status.busy": "2021-11-02T13:12:55.636733Z",
     "iopub.status.idle": "2021-11-02T13:12:55.654690Z",
     "shell.execute_reply": "2021-11-02T13:12:55.655173Z"
    }
   },
   "outputs": [],
   "source": [
    "# Calculate the variance for each gene\n",
    "expression_df[\"variance\"] = expression_df.var(axis=1, skipna=True)\n",
    "\n",
    "# Find the upper quartile for these data\n",
    "upper_quartile = expression_df[\"variance\"].quantile([0.90]).values\n",
    "\n",
    "# Filter the data choosing only genes whose variances are in the upper quartile\n",
    "df_by_var = expression_df[expression_df.variance > float(upper_quartile)]\n",
    "\n",
    "# Drop the variance column we calculated\n",
    "df_by_var = df_by_var.drop(columns=\"variance\")"
   ]
  },
  {
   "cell_type": "code",
   "execution_count": 13,
   "id": "44886f25-4adf-4814-b4b6-93dfbeba694a",
   "metadata": {
    "execution": {
     "iopub.execute_input": "2021-11-02T13:12:55.662045Z",
     "iopub.status.busy": "2021-11-02T13:12:55.660239Z",
     "iopub.status.idle": "2021-11-02T13:12:55.664356Z",
     "shell.execute_reply": "2021-11-02T13:12:55.663756Z"
    }
   },
   "outputs": [
    {
     "name": "stdout",
     "output_type": "stream",
     "text": [
      "4125\n"
     ]
    }
   ],
   "source": [
    "# Check how many genes we are left with\n",
    "print(len(df_by_var.index))"
   ]
  },
  {
   "cell_type": "markdown",
   "id": "bc91ca93-2252-43b5-8513-a239e53fd7d9",
   "metadata": {},
   "source": [
    "### Write top variance genes to a TSV file"
   ]
  },
  {
   "cell_type": "code",
   "execution_count": 14,
   "id": "d6b3e851-7e14-4cbd-9aca-ace6207b6881",
   "metadata": {
    "execution": {
     "iopub.execute_input": "2021-11-02T13:12:55.669358Z",
     "iopub.status.busy": "2021-11-02T13:12:55.668561Z",
     "iopub.status.idle": "2021-11-02T13:12:55.799807Z",
     "shell.execute_reply": "2021-11-02T13:12:55.799258Z"
    }
   },
   "outputs": [],
   "source": [
    "# Write df_by_var to tsv file\n",
    "df_by_var.to_csv(\"results/top_90_var_genes.tsv\", sep=\"\\t\")"
   ]
  },
  {
   "cell_type": "markdown",
   "id": "55b36af8-127b-4c6b-abc9-dea85510a101",
   "metadata": {},
   "source": [
    "## Prepare metadata for annotation\n",
    "\n",
    "From the accompanying [paper](https://pubmed.ncbi.nlm.nih.gov/28193779/), we know that the mice with `IDH2` mutant AML were treated with vehicle or AG-221 (the first small molecule in-vivo inhibitor of IDH2 to enter clinical trials) and the mice with `TET2` mutant AML were treated with vehicle or 5-Azacytidine (Decitabine, hypomethylating agent). [@Shih2017]"
   ]
  },
  {
   "cell_type": "code",
   "execution_count": 15,
   "id": "fcb711e2-54ac-44db-ba57-b039d8c00a5f",
   "metadata": {
    "execution": {
     "iopub.execute_input": "2021-11-02T13:12:55.807261Z",
     "iopub.status.busy": "2021-11-02T13:12:55.805683Z",
     "iopub.status.idle": "2021-11-02T13:12:55.808797Z",
     "shell.execute_reply": "2021-11-02T13:12:55.808318Z"
    }
   },
   "outputs": [],
   "source": [
    "# Recode refinebio_title variable into something more useful\n",
    "# Split wherever there is a '-' or '.'\n",
    "exp_group = metadata[\"refinebio_title\"].str.split(\"-|\\\\.\", expand=True, n=1)"
   ]
  },
  {
   "cell_type": "code",
   "execution_count": 16,
   "id": "9afbfabe-5e0b-413d-8f41-5722216d33d4",
   "metadata": {
    "execution": {
     "iopub.execute_input": "2021-11-02T13:12:55.816342Z",
     "iopub.status.busy": "2021-11-02T13:12:55.815078Z",
     "iopub.status.idle": "2021-11-02T13:12:55.817400Z",
     "shell.execute_reply": "2021-11-02T13:12:55.816888Z"
    }
   },
   "outputs": [],
   "source": [
    "# Now we'll store that first column from the string split back in the metadata as a column\n",
    "metadata[\"exp_group\"] = exp_group[0]"
   ]
  },
  {
   "cell_type": "code",
   "execution_count": 17,
   "id": "952107a4-a9d8-4bdb-8e30-e711b6a362da",
   "metadata": {
    "execution": {
     "iopub.execute_input": "2021-11-02T13:12:55.825213Z",
     "iopub.status.busy": "2021-11-02T13:12:55.823425Z",
     "iopub.status.idle": "2021-11-02T13:12:55.827224Z",
     "shell.execute_reply": "2021-11-02T13:12:55.826694Z"
    }
   },
   "outputs": [
    {
     "name": "stdout",
     "output_type": "stream",
     "text": [
      "0       WT\n",
      "1       WT\n",
      "2       WT\n",
      "3       WT\n",
      "4     IDH2\n",
      "5     IDH2\n",
      "6     IDH2\n",
      "7     IDH2\n",
      "8     IDH2\n",
      "9     IDH2\n",
      "10    IDH2\n",
      "11    TET2\n",
      "12    TET2\n",
      "13    TET2\n",
      "14    TET2\n",
      "15    TET2\n",
      "16    TET2\n",
      "17    TET2\n",
      "18    TET2\n",
      "Name: exp_group, dtype: object\n"
     ]
    }
   ],
   "source": [
    "# Print to check\n",
    "print(metadata[\"exp_group\"])"
   ]
  },
  {
   "cell_type": "code",
   "execution_count": 18,
   "id": "0077f9c6-9160-4935-8d29-97f57e141c0f",
   "metadata": {
    "execution": {
     "iopub.execute_input": "2021-11-02T13:12:55.830152Z",
     "iopub.status.busy": "2021-11-02T13:12:55.829575Z",
     "iopub.status.idle": "2021-11-02T13:12:55.837681Z",
     "shell.execute_reply": "2021-11-02T13:12:55.837232Z"
    }
   },
   "outputs": [],
   "source": [
    "# Color code our two variables\n",
    "refinebio_treatment_colors = color_key.make_color_key(metadata[\"refinebio_treatment\"])\n",
    "exp_groups_colors = color_key.make_color_key(metadata[\"exp_group\"])"
   ]
  },
  {
   "cell_type": "markdown",
   "id": "7f9aa1dc-130b-4fe5-bec7-8949fd9d7a28",
   "metadata": {},
   "source": [
    "Make them into one data frame we can provide to the heatmap for annotation. "
   ]
  },
  {
   "cell_type": "code",
   "execution_count": 19,
   "id": "7b9b7ff3-e2bb-4fde-9fdd-001838be5e5a",
   "metadata": {
    "execution": {
     "iopub.execute_input": "2021-11-02T13:12:55.843530Z",
     "iopub.status.busy": "2021-11-02T13:12:55.842952Z",
     "iopub.status.idle": "2021-11-02T13:12:55.847503Z",
     "shell.execute_reply": "2021-11-02T13:12:55.847045Z"
    }
   },
   "outputs": [],
   "source": [
    "color_key_df = pd.concat(\n",
    "    [refinebio_treatment_colors[\"color_key\"], exp_groups_colors[\"color_key\"]],\n",
    "    axis=1,\n",
    "    names=[\"treatment\", \"exp_group\"],\n",
    ")\n",
    "\n",
    "color_key_df = color_key_df.set_index(df_by_var.columns)"
   ]
  },
  {
   "cell_type": "markdown",
   "id": "05c374e7-ee40-4550-94b6-d64bbe4fd25a",
   "metadata": {},
   "source": [
    "Print out our annotation data frame to make sure it looks right. "
   ]
  },
  {
   "cell_type": "code",
   "execution_count": 20,
   "id": "0aca0aa8-4bca-4247-835c-f0e76d839576",
   "metadata": {
    "execution": {
     "iopub.execute_input": "2021-11-02T13:12:55.856739Z",
     "iopub.status.busy": "2021-11-02T13:12:55.855914Z",
     "iopub.status.idle": "2021-11-02T13:12:55.859539Z",
     "shell.execute_reply": "2021-11-02T13:12:55.858886Z"
    },
    "tags": []
   },
   "outputs": [
    {
     "data": {
      "text/html": [
       "<div>\n",
       "<style scoped>\n",
       "    .dataframe tbody tr th:only-of-type {\n",
       "        vertical-align: middle;\n",
       "    }\n",
       "\n",
       "    .dataframe tbody tr th {\n",
       "        vertical-align: top;\n",
       "    }\n",
       "\n",
       "    .dataframe thead th {\n",
       "        text-align: right;\n",
       "    }\n",
       "</style>\n",
       "<table border=\"1\" class=\"dataframe\">\n",
       "  <thead>\n",
       "    <tr style=\"text-align: right;\">\n",
       "      <th></th>\n",
       "      <th>refinebio_treatment</th>\n",
       "      <th>exp_group</th>\n",
       "    </tr>\n",
       "  </thead>\n",
       "  <tbody>\n",
       "    <tr>\n",
       "      <th>SRR3189679</th>\n",
       "      <td>#E30212</td>\n",
       "      <td>#221829</td>\n",
       "    </tr>\n",
       "    <tr>\n",
       "      <th>SRR3189680</th>\n",
       "      <td>#E30212</td>\n",
       "      <td>#221829</td>\n",
       "    </tr>\n",
       "    <tr>\n",
       "      <th>SRR3189681</th>\n",
       "      <td>#E30212</td>\n",
       "      <td>#221829</td>\n",
       "    </tr>\n",
       "    <tr>\n",
       "      <th>SRR3189682</th>\n",
       "      <td>#E30212</td>\n",
       "      <td>#221829</td>\n",
       "    </tr>\n",
       "    <tr>\n",
       "      <th>SRR3189683</th>\n",
       "      <td>#3B7000</td>\n",
       "      <td>#FB876E</td>\n",
       "    </tr>\n",
       "    <tr>\n",
       "      <th>SRR3189684</th>\n",
       "      <td>#3B7000</td>\n",
       "      <td>#FB876E</td>\n",
       "    </tr>\n",
       "    <tr>\n",
       "      <th>SRR3189685</th>\n",
       "      <td>#3B7000</td>\n",
       "      <td>#FB876E</td>\n",
       "    </tr>\n",
       "    <tr>\n",
       "      <th>SRR3189686</th>\n",
       "      <td>#BFE425</td>\n",
       "      <td>#FB876E</td>\n",
       "    </tr>\n",
       "    <tr>\n",
       "      <th>SRR3189687</th>\n",
       "      <td>#BFE425</td>\n",
       "      <td>#FB876E</td>\n",
       "    </tr>\n",
       "    <tr>\n",
       "      <th>SRR3189688</th>\n",
       "      <td>#BFE425</td>\n",
       "      <td>#FB876E</td>\n",
       "    </tr>\n",
       "    <tr>\n",
       "      <th>SRR3189689</th>\n",
       "      <td>#BFE425</td>\n",
       "      <td>#FB876E</td>\n",
       "    </tr>\n",
       "    <tr>\n",
       "      <th>SRR3189690</th>\n",
       "      <td>#3B7000</td>\n",
       "      <td>#020A4F</td>\n",
       "    </tr>\n",
       "    <tr>\n",
       "      <th>SRR3189691</th>\n",
       "      <td>#3B7000</td>\n",
       "      <td>#020A4F</td>\n",
       "    </tr>\n",
       "    <tr>\n",
       "      <th>SRR3189692</th>\n",
       "      <td>#3B7000</td>\n",
       "      <td>#020A4F</td>\n",
       "    </tr>\n",
       "    <tr>\n",
       "      <th>SRR3189693</th>\n",
       "      <td>#3B7000</td>\n",
       "      <td>#020A4F</td>\n",
       "    </tr>\n",
       "    <tr>\n",
       "      <th>SRR3189694</th>\n",
       "      <td>#30F72E</td>\n",
       "      <td>#020A4F</td>\n",
       "    </tr>\n",
       "    <tr>\n",
       "      <th>SRR3189695</th>\n",
       "      <td>#30F72E</td>\n",
       "      <td>#020A4F</td>\n",
       "    </tr>\n",
       "    <tr>\n",
       "      <th>SRR3189696</th>\n",
       "      <td>#30F72E</td>\n",
       "      <td>#020A4F</td>\n",
       "    </tr>\n",
       "    <tr>\n",
       "      <th>SRR3189697</th>\n",
       "      <td>#30F72E</td>\n",
       "      <td>#020A4F</td>\n",
       "    </tr>\n",
       "  </tbody>\n",
       "</table>\n",
       "</div>"
      ],
      "text/plain": [
       "           refinebio_treatment exp_group\n",
       "SRR3189679             #E30212   #221829\n",
       "SRR3189680             #E30212   #221829\n",
       "SRR3189681             #E30212   #221829\n",
       "SRR3189682             #E30212   #221829\n",
       "SRR3189683             #3B7000   #FB876E\n",
       "SRR3189684             #3B7000   #FB876E\n",
       "SRR3189685             #3B7000   #FB876E\n",
       "SRR3189686             #BFE425   #FB876E\n",
       "SRR3189687             #BFE425   #FB876E\n",
       "SRR3189688             #BFE425   #FB876E\n",
       "SRR3189689             #BFE425   #FB876E\n",
       "SRR3189690             #3B7000   #020A4F\n",
       "SRR3189691             #3B7000   #020A4F\n",
       "SRR3189692             #3B7000   #020A4F\n",
       "SRR3189693             #3B7000   #020A4F\n",
       "SRR3189694             #30F72E   #020A4F\n",
       "SRR3189695             #30F72E   #020A4F\n",
       "SRR3189696             #30F72E   #020A4F\n",
       "SRR3189697             #30F72E   #020A4F"
      ]
     },
     "execution_count": 20,
     "metadata": {},
     "output_type": "execute_result"
    }
   ],
   "source": [
    "# Check that this is what we think it is\n",
    "color_key_df"
   ]
  },
  {
   "cell_type": "markdown",
   "id": "8a80e4f2-d7b1-47f3-bf8f-7d6ddc6dd621",
   "metadata": {},
   "source": [
    "# Create and store the annotated heatmap object"
   ]
  },
  {
   "cell_type": "code",
   "execution_count": 21,
   "id": "6b2654f1-1baa-41f7-b560-43cbac2025ce",
   "metadata": {
    "execution": {
     "iopub.execute_input": "2021-11-02T13:12:55.871834Z",
     "iopub.status.busy": "2021-11-02T13:12:55.871202Z",
     "iopub.status.idle": "2021-11-02T13:12:58.376507Z",
     "shell.execute_reply": "2021-11-02T13:12:58.375898Z"
    }
   },
   "outputs": [
    {
     "name": "stderr",
     "output_type": "stream",
     "text": [
      "/opt/conda/envs/reproducible-python/lib/python3.8/site-packages/seaborn/matrix.py:654: UserWarning: Clustering large matrix with scipy. Installing `fastcluster` may give better performance.\n",
      "  warnings.warn(msg)\n"
     ]
    },
    {
     "data": {
      "image/png": "[encoded data removed]",
      "text/plain": [
       "<Figure size 720x720 with 5 Axes>"
      ]
     },
     "metadata": {},
     "output_type": "display_data"
    }
   ],
   "source": [
    "heatmap = sns.clustermap(\n",
    "    df_by_var,\n",
    "    cmap=\"mako\",\n",
    "    col_colors=color_key_df,\n",
    "    dendrogram_ratio=(0, 0.2),\n",
    "    cbar_pos=(-0.1, 0.2, 0.03, 0.5),\n",
    ")\n",
    "\n",
    "legend1 = color_key.make_legend(exp_groups_colors[\"color_key_dict\"])\n",
    "legend2 = color_key.make_legend(refinebio_treatment_colors[\"color_key_dict\"])\n",
    "\n",
    "# Make a legend 1\n",
    "plt.legend(\n",
    "    legend1,\n",
    "    exp_groups_colors[\"color_key_dict\"],\n",
    "    title=\"Experiment \\nGroup\",\n",
    "    bbox_to_anchor=(4, 1.3),\n",
    ")\n",
    "\n",
    "# Make a legend 2\n",
    "heatmap.ax_row_dendrogram.legend(\n",
    "    legend2,\n",
    "    refinebio_treatment_colors[\"color_key_dict\"],\n",
    "    title=\"Treatment\",\n",
    "    bbox_to_anchor=(0, 1.37),\n",
    ")\n",
    "\n",
    "plt.show()"
   ]
  },
  {
   "cell_type": "markdown",
   "id": "a7f0d8b6-2e2b-4bad-a7af-dc7842cff9b5",
   "metadata": {},
   "source": [
    "Now we need to set up a legend for the color bar. "
   ]
  },
  {
   "cell_type": "code",
   "execution_count": 22,
   "id": "6bde5745-dd15-40df-9caa-ca3b2c57bb06",
   "metadata": {
    "execution": {
     "iopub.execute_input": "2021-11-02T13:12:58.389201Z",
     "iopub.status.busy": "2021-11-02T13:12:58.388293Z",
     "iopub.status.idle": "2021-11-02T13:12:59.079446Z",
     "shell.execute_reply": "2021-11-02T13:12:59.078855Z"
    }
   },
   "outputs": [],
   "source": [
    "# Save to png\n",
    "heatmap.savefig(os.path.join(\"plots\", \"aml_heatmap.png\"))"
   ]
  },
  {
   "cell_type": "markdown",
   "id": "6647b305-12df-46d1-b8bb-2fcd5508aa07",
   "metadata": {},
   "source": [
    "### Print out session info "
   ]
  },
  {
   "cell_type": "code",
   "execution_count": 23,
   "id": "fb7c4042-a87a-4492-9374-ea09ca8f4881",
   "metadata": {
    "execution": {
     "iopub.execute_input": "2021-11-02T13:12:59.086188Z",
     "iopub.status.busy": "2021-11-02T13:12:59.085221Z",
     "iopub.status.idle": "2021-11-02T13:13:00.180371Z",
     "shell.execute_reply": "2021-11-02T13:13:00.179295Z"
    },
    "tags": []
   },
   "outputs": [
    {
     "data": {
      "text/html": [
       "<details>\n",
       "<summary>Click to view session information</summary>\n",
       "<pre>\n",
       "-----\n",
       "matplotlib          3.4.3\n",
       "numpy               1.20.3\n",
       "pandas              1.3.3\n",
       "pyrefinebio         NA\n",
       "seaborn             0.11.2\n",
       "session_info        1.0.0\n",
       "util                NA\n",
       "-----\n",
       "</pre>\n",
       "<details>\n",
       "<summary>Click to view modules imported as dependencies</summary>\n",
       "<pre>\n",
       "PIL                         8.4.0\n",
       "anyio                       NA\n",
       "attr                        21.2.0\n",
       "babel                       2.9.1\n",
       "backcall                    0.2.0\n",
       "beta_ufunc                  NA\n",
       "binom_ufunc                 NA\n",
       "bottleneck                  1.3.2\n",
       "brotli                      NA\n",
       "certifi                     2021.10.08\n",
       "cffi                        1.14.6\n",
       "charset_normalizer          2.0.4\n",
       "cycler                      0.10.0\n",
       "cython_runtime              NA\n",
       "dateutil                    2.8.2\n",
       "debugpy                     1.4.1\n",
       "decorator                   5.1.0\n",
       "defusedxml                  0.7.1\n",
       "entrypoints                 0.3\n",
       "idna                        3.2\n",
       "ipykernel                   6.4.1\n",
       "ipython_genutils            0.2.0\n",
       "iso8601                     NA\n",
       "jedi                        0.18.0\n",
       "jinja2                      3.0.1\n",
       "json5                       NA\n",
       "jsonschema                  3.2.0\n",
       "jupyter_server              1.4.1\n",
       "jupyterlab_server           2.8.2\n",
       "kiwisolver                  1.3.1\n",
       "markupsafe                  2.0.1\n",
       "matplotlib_inline           NA\n",
       "mkl                         2.4.0\n",
       "mpl_toolkits                NA\n",
       "nbclassic                   NA\n",
       "nbformat                    5.1.3\n",
       "nbinom_ufunc                NA\n",
       "numexpr                     2.7.3\n",
       "packaging                   21.0\n",
       "parso                       0.8.2\n",
       "pexpect                     4.8.0\n",
       "pickleshare                 0.7.5\n",
       "pkg_resources               NA\n",
       "prometheus_client           NA\n",
       "prompt_toolkit              3.0.20\n",
       "ptyprocess                  0.7.0\n",
       "pvectorc                    NA\n",
       "pydev_ipython               NA\n",
       "pydevconsole                NA\n",
       "pydevd                      2.4.1\n",
       "pydevd_concurrency_analyser NA\n",
       "pydevd_file_utils           NA\n",
       "pydevd_plugins              NA\n",
       "pydevd_tracing              NA\n",
       "pygments                    2.10.0\n",
       "pyparsing                   2.4.7\n",
       "pyrsistent                  NA\n",
       "pytz                        2021.3\n",
       "requests                    2.26.0\n",
       "scipy                       1.7.1\n",
       "send2trash                  NA\n",
       "six                         1.16.0\n",
       "sniffio                     1.2.0\n",
       "socks                       1.7.1\n",
       "statsmodels                 0.13.0\n",
       "storemagic                  NA\n",
       "tornado                     6.1\n",
       "traitlets                   5.1.0\n",
       "urllib3                     1.26.7\n",
       "wcwidth                     0.2.5\n",
       "yaml                        6.0\n",
       "zmq                         22.2.1\n",
       "</pre>\n",
       "</details> <!-- seems like this ends pre, so might as well be explicit -->\n",
       "<pre>\n",
       "-----\n",
       "IPython             7.27.0\n",
       "jupyter_client      7.0.3\n",
       "jupyter_core        4.8.1\n",
       "jupyterlab          3.1.13\n",
       "notebook            6.4.4\n",
       "-----\n",
       "Python 3.8.12 (default, Oct 12 2021, 13:49:34) [GCC 7.5.0]\n",
       "Linux-5.11.0-1020-azure-x86_64-with-glibc2.17\n",
       "-----\n",
       "Session information updated at 2021-11-02 13:13\n",
       "</pre>\n",
       "</details>"
      ],
      "text/plain": [
       "<IPython.core.display.HTML object>"
      ]
     },
     "execution_count": 23,
     "metadata": {},
     "output_type": "execute_result"
    }
   ],
   "source": [
    "session_info.show()"
   ]
  }
 ],
 "metadata": {
  "kernelspec": {
   "display_name": "Reproducible Python",
   "language": "python",
   "name": "reproducible-python"
  },
  "language_info": {
   "codemirror_mode": {
    "name": "ipython",
    "version": 3
   },
   "file_extension": ".py",
   "mimetype": "text/x-python",
   "name": "python",
   "nbconvert_exporter": "python",
   "pygments_lexer": "ipython3",
   "version": "3.8.12"
  }
 },
 "nbformat": 4,
 "nbformat_minor": 5
}

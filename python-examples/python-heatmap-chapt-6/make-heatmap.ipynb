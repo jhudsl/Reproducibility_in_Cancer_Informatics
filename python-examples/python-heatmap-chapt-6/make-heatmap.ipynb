{
 "cells": [
  {
   "cell_type": "code",
   "execution_count": null,
   "id": "19b10339-6ddd-4e40-a285-6ca124ae1353",
   "metadata": {},
   "outputs": [],
   "source": [
    "import os\n",
    "from pathlib import Path\n",
    "import pyrefinebio\n",
    "import statistics\n",
    "import pandas as pd\n",
    "import numpy as np\n",
    "import seaborn as sns; sns.set_theme(color_codes=True)\n",
    "df1=pd.read_csv('a/file/path/only/I/have/SRP070849.tsv', sep='\\t')\n",
    "mdf=pd.read_csv('a/file/path/only/I/have/SRP070849_metadata.tsv', sep='\\t')\n",
    "df1[\"Gene\"]\n",
    "df1['calc'] =df1.var(axis = 1, skipna = True)\n",
    "filter_num=df1.calc.quantile([0.90]).values\n",
    "df2=df1[df1.calc >float(filter_num)]\n",
    "df2 =df_by_var.drop(['calc'], 1)\n",
    "# groups = mdf.pop('refinebio_title')\n",
    "# df2\n",
    "# type(df2)\n",
    "refinebio_title = mdf.pop('refinebio_title')\n",
    "keys = dict(zip(refinebio_title.unique(), \"rbg\"))\n",
    "keys_df = pd.DataFrame(exp_group.map(keys))\n",
    "keys_df = color_key_df.set_index(df2.columns)\n",
    "heatmap = sns.clustermap(df2, cmap =\"mako\", col_colors = keys_df, dendrogram_ratio = (0, .2), cbar_pos = (-.1, .2, .03, .5))\n",
    "heatmap.savefig('heatmap.png')"
   ]
  }
 ],
 "metadata": {
  "kernelspec": {
   "display_name": "Python 3",
   "language": "python",
   "name": "python3"
  },
  "language_info": {
   "codemirror_mode": {
    "name": "ipython",
    "version": 3
   },
   "file_extension": ".py",
   "mimetype": "text/x-python",
   "name": "python",
   "nbconvert_exporter": "python",
   "pygments_lexer": "ipython3",
   "version": "3.8.8"
  }
 },
 "nbformat": 4,
 "nbformat_minor": 5
}
